{
 "cells": [
  {
   "cell_type": "markdown",
   "metadata": {},
   "source": [
    "Đây là file hướng dẫn chạy code, được chỉnh sửa lại từ repo gốc của tác giả bài báo. Một số thay đổi đã thực hiện bao gồm:\n",
    "- Thêm file requirements.txt\n",
    "- Phiên bản gốc yêu cầu **Pytorch (v0.4.0)** và **Python 2.7**. Nhưng ở phiên bản hiện tại khi chạy với **Pytorch (v2.1.1+cu121)** và **Python 3.10.7** vẫn ổn.\n",
    "- Mấy file code cũ có thể code theo phiên bản Python cũ hơn, nên nó sẽ bị mắc một số lỗi (VD như print không có đóng mở ngoặc), nên nhóm cũng có điều chỉnh một số file code."
   ]
  },
  {
   "cell_type": "markdown",
   "metadata": {},
   "source": [
    "## Bắt đầu chạy"
   ]
  },
  {
   "cell_type": "markdown",
   "metadata": {},
   "source": [
    "### Clone repository"
   ]
  },
  {
   "cell_type": "code",
   "execution_count": null,
   "metadata": {},
   "outputs": [],
   "source": [
    "!git clone https://github.com/KaiyangZhou/vsumm-reinforce\n",
    "%cd vsumm-reinforce"
   ]
  },
  {
   "cell_type": "markdown",
   "metadata": {},
   "source": [
    "### Dataset"
   ]
  },
  {
   "cell_type": "markdown",
   "metadata": {},
   "source": [
    "Do đường link cũ bị chết rồi, tải thủ công bộ dataset tại [đây](https://drive.google.com/file/d/1Bf0beMN_ieiM3JpprghaoOwQe9QJIyAN/view). Tải xong thì giải nén nó vào thư mục hiện tại, tạo thành folder **datasets**.\n",
    "\n",
    "Bộ dữ liệu tải xong sẽ gồm có 4 file chính.\n",
    "\n",
    "- **eccv16_dataset_summe_google_pool5.h5**: Bộ dữ liệu này được sử dụng trong hội nghị ECCV 2016. Nó chứa các video được tổng hợp từ nhiều nguồn khác nhau. Các video đã được trích xuất tính năng bằng mô hình GoogleNet. Điểm đặc biệt của bộ dữ liệu này là nó bao gồm các điểm quan trọng thực sự, tức là điểm số được gán bởi người dùng để chỉ ra mức độ quan trọng của mỗi khung hình. Ngoài ra, nó còn chứa tóm tắt được cung cấp bởi người dùng và các điểm chuyển đổi.\n",
    "\n",
    "- **eccv16_dataset_tvsum_google_pool5.h5**: Tương tự như bộ dữ liệu SUMMe, bộ dữ liệu này cũng được sử dụng trong ECCV 2016. Nó chứa các video từ TVSum dataset, một tập dữ liệu phổ biến trong lĩnh vực tóm tắt video. Các video đã được trích xuất tính năng bằng mô hình GoogleNet. Bộ dữ liệu cung cấp các điểm quan trọng thực sự, tóm tắt người dùng và các điểm chuyển đổi.\n",
    "\n",
    "- **eccv16_dataset_ovp_google_pool5.h5**: Bộ dữ liệu này chứa các video từ Open Video Project (OVP), một kho tài nguyên video công cộng rất lớn. Các video đã được trích xuất tính năng bằng mô hình GoogleNet. Tương tự như các bộ dữ liệu trước đó, nó cũng cung cấp các điểm quan trọng thực sự.\n",
    "\n",
    "- **eccv16_dataset_youtube_google_pool5.h5**: Bộ dữ liệu này bao gồm các video từ YouTube, một nguồn tài nguyên phong phú với nhiều loại video khác nhau. Các video đã được trích xuất tính năng bằng mô hình GoogleNet và cũng cung cấp các điểm quan trọng thực sự."
   ]
  },
  {
   "cell_type": "markdown",
   "metadata": {},
   "source": [
    "### Split dataset"
   ]
  },
  {
   "cell_type": "code",
   "execution_count": 4,
   "metadata": {},
   "outputs": [
    {
     "name": "stdout",
     "output_type": "stream",
     "text": [
      "==========\n",
      "Args:Namespace(dataset='datasets/eccv16_dataset_summe_google_pool5.h5', save_dir='datasets', save_name='summe_splits', num_splits=5, train_percent=0.8)\n",
      "==========\n",
      "Goal: randomly split data for 5 times, 80.0% for training and the rest for testing\n",
      "Loading dataset from datasets/eccv16_dataset_summe_google_pool5.h5\n",
      "Split breakdown: # total videos 25. # train videos 20. # test videos 5\n",
      "Splits saved to datasets\\summe_splits.json\n"
     ]
    }
   ],
   "source": [
    "!python create_split.py -d datasets/eccv16_dataset_summe_google_pool5.h5 --save-dir datasets --save-name summe_splits  --num-splits 5"
   ]
  },
  {
   "cell_type": "markdown",
   "metadata": {},
   "source": [
    "Sau khi chạy lệnh trên, bộ dữ liệu được chia ngẫu nhiên thành 5 phần, được lưu dưới dạng tệp JSON tại *datasets\\summe_splits.json*.\n",
    "\n",
    "Các mã huấn luyện và kiểm tra được viết trong tệp main.py. Để xem các đối số chi tiết, vui lòng chạy lệnh python main.py -h."
   ]
  },
  {
   "cell_type": "markdown",
   "metadata": {},
   "source": [
    "### Cài thư viện"
   ]
  },
  {
   "cell_type": "code",
   "execution_count": null,
   "metadata": {},
   "outputs": [],
   "source": [
    "!pip install -r requirements.txt"
   ]
  },
  {
   "cell_type": "markdown",
   "metadata": {},
   "source": [
    "### Train"
   ]
  },
  {
   "cell_type": "markdown",
   "metadata": {},
   "source": [
    "Ở đây train trên bộ **eccv16_dataset_summe_google_pool5.h5** với **120 epochs**, xong nó sẽ lưu vô **log/summe-split0**.\n",
    "\n",
    "File check point là **log_train.txt**, **model_epoch60.pth.tar** và **rewards.json**"
   ]
  },
  {
   "cell_type": "code",
   "execution_count": 2,
   "metadata": {},
   "outputs": [
    {
     "name": "stdout",
     "output_type": "stream",
     "text": [
      "==========\n",
      "Args:Namespace(dataset='datasets/eccv16_dataset_summe_google_pool5.h5', split='datasets/summe_splits.json', split_id=0, metric='summe', input_dim=1024, hidden_dim=256, num_layers=1, rnn_cell='lstm', lr=1e-05, weight_decay=1e-05, max_epoch=120, stepsize=30, gamma=0.1, num_episode=5, beta=0.01, seed=1, gpu='0', use_cpu=False, evaluate=False, save_dir='log/summe-split0-120', resume='', verbose=True, save_results=False)\n",
      "==========\n",
      "Currently using GPU 0\n",
      "Initialize dataset datasets/eccv16_dataset_summe_google_pool5.h5\n",
      "# total videos 25. # train videos 20. # test videos 5\n",
      "Initialize model\n",
      "Model size: 2.62605M\n",
      "==> Start training\n",
      "epoch 1/120\t reward 0.891697200536728\t\n",
      "epoch 2/120\t reward 0.890424371957779\t\n",
      "epoch 3/120\t reward 0.8912282282114029\t\n",
      "epoch 4/120\t reward 0.8906500381231309\t\n",
      "epoch 5/120\t reward 0.8921972942352294\t\n",
      "epoch 6/120\t reward 0.8904366981983184\t\n",
      "epoch 7/120\t reward 0.8914194798469545\t\n",
      "epoch 8/120\t reward 0.8896731382608414\t\n",
      "epoch 9/120\t reward 0.8921359455585481\t\n",
      "epoch 10/120\t reward 0.8916584956645964\t\n",
      "epoch 11/120\t reward 0.8903902488946913\t\n",
      "epoch 12/120\t reward 0.8901393139362334\t\n",
      "epoch 13/120\t reward 0.8916963613033294\t\n",
      "epoch 14/120\t reward 0.8907307046651839\t\n",
      "epoch 15/120\t reward 0.8903154653310775\t\n",
      "epoch 16/120\t reward 0.8904702180624009\t\n",
      "epoch 17/120\t reward 0.8909204930067063\t\n",
      "epoch 18/120\t reward 0.8913644391298293\t\n",
      "epoch 19/120\t reward 0.8900485688447952\t\n",
      "epoch 20/120\t reward 0.8907405990362166\t\n",
      "epoch 21/120\t reward 0.8904699367284776\t\n",
      "epoch 22/120\t reward 0.8918638181686402\t\n",
      "epoch 23/120\t reward 0.8901848447322843\t\n",
      "epoch 24/120\t reward 0.8886075818538665\t\n",
      "epoch 25/120\t reward 0.8918485641479494\t\n",
      "epoch 26/120\t reward 0.8913427746295929\t\n",
      "epoch 27/120\t reward 0.8905555874109268\t\n",
      "epoch 28/120\t reward 0.889308326840401\t\n",
      "epoch 29/120\t reward 0.8912566745281222\t\n",
      "epoch 30/120\t reward 0.8917936223745345\t\n",
      "epoch 31/120\t reward 0.8911868590116502\t\n",
      "epoch 32/120\t reward 0.8924674868583681\t\n",
      "epoch 33/120\t reward 0.8913023746013643\t\n",
      "epoch 34/120\t reward 0.8906424236297609\t\n",
      "epoch 35/120\t reward 0.8919414037466049\t\n",
      "epoch 36/120\t reward 0.8912290889024735\t\n",
      "epoch 37/120\t reward 0.8914089602231978\t\n",
      "epoch 38/120\t reward 0.8899166631698607\t\n",
      "epoch 39/120\t reward 0.8910774344205856\t\n",
      "epoch 40/120\t reward 0.8906003111600876\t\n",
      "epoch 41/120\t reward 0.8907022422552109\t\n",
      "epoch 42/120\t reward 0.8906110095977784\t\n",
      "epoch 43/120\t reward 0.8920722794532775\t\n",
      "epoch 44/120\t reward 0.8917222785949708\t\n",
      "epoch 45/120\t reward 0.8910714650154112\t\n",
      "epoch 46/120\t reward 0.891306455731392\t\n",
      "epoch 47/120\t reward 0.8926290458440782\t\n",
      "epoch 48/120\t reward 0.8912277805805205\t\n",
      "epoch 49/120\t reward 0.8910227483510973\t\n",
      "epoch 50/120\t reward 0.8915060997009279\t\n",
      "epoch 51/120\t reward 0.8932391166687011\t\n",
      "epoch 52/120\t reward 0.8916475164890288\t\n",
      "epoch 53/120\t reward 0.8903117275238037\t\n",
      "epoch 54/120\t reward 0.8904399198293687\t\n",
      "epoch 55/120\t reward 0.8911042863130572\t\n",
      "epoch 56/120\t reward 0.8903055804967881\t\n",
      "epoch 57/120\t reward 0.8919207417964936\t\n",
      "epoch 58/120\t reward 0.8921055155992507\t\n",
      "epoch 59/120\t reward 0.8921625965833664\t\n",
      "epoch 60/120\t reward 0.8916196632385255\t\n",
      "epoch 61/120\t reward 0.8913230574131011\t\n",
      "epoch 62/120\t reward 0.890893987417221\t\n",
      "epoch 63/120\t reward 0.8920297849178315\t\n",
      "epoch 64/120\t reward 0.892388608455658\t\n",
      "epoch 65/120\t reward 0.8911370074748992\t\n",
      "epoch 66/120\t reward 0.8917059928178788\t\n",
      "epoch 67/120\t reward 0.8921259421110154\t\n",
      "epoch 68/120\t reward 0.8925329476594926\t\n",
      "epoch 69/120\t reward 0.8926187121868134\t\n",
      "epoch 70/120\t reward 0.891648406982422\t\n",
      "epoch 71/120\t reward 0.8932402217388153\t\n",
      "epoch 72/120\t reward 0.8926510530710221\t\n",
      "epoch 73/120\t reward 0.8933180034160614\t\n",
      "epoch 74/120\t reward 0.8918355345726015\t\n",
      "epoch 75/120\t reward 0.8927969753742218\t\n",
      "epoch 76/120\t reward 0.8925507074594498\t\n",
      "epoch 77/120\t reward 0.8918132025003433\t\n",
      "epoch 78/120\t reward 0.8925879085063935\t\n",
      "epoch 79/120\t reward 0.8908957874774932\t\n",
      "epoch 80/120\t reward 0.8924267852306367\t\n",
      "epoch 81/120\t reward 0.8942260098457337\t\n",
      "epoch 82/120\t reward 0.8918872529268265\t\n",
      "epoch 83/120\t reward 0.8931857782602309\t\n",
      "epoch 84/120\t reward 0.8931716865301134\t\n",
      "epoch 85/120\t reward 0.8930524420738222\t\n",
      "epoch 86/120\t reward 0.89291184425354\t\n",
      "epoch 87/120\t reward 0.8945120137929916\t\n",
      "epoch 88/120\t reward 0.8924065905809403\t\n",
      "epoch 89/120\t reward 0.8922019243240357\t\n",
      "epoch 90/120\t reward 0.8934153246879577\t\n",
      "epoch 91/120\t reward 0.8934746581315995\t\n",
      "epoch 92/120\t reward 0.8921993494033813\t\n",
      "epoch 93/120\t reward 0.8932769495248796\t\n",
      "epoch 94/120\t reward 0.89281726539135\t\n",
      "epoch 95/120\t reward 0.8926927715539931\t\n",
      "epoch 96/120\t reward 0.8923996663093566\t\n",
      "epoch 97/120\t reward 0.8932077860832214\t\n",
      "epoch 98/120\t reward 0.8926318609714506\t\n",
      "epoch 99/120\t reward 0.8917893421649934\t\n",
      "epoch 100/120\t reward 0.8921689581871032\t\n",
      "epoch 101/120\t reward 0.8935312217473983\t\n",
      "epoch 102/120\t reward 0.8933563631772996\t\n",
      "epoch 103/120\t reward 0.8939855384826659\t\n",
      "epoch 104/120\t reward 0.893353933095932\t\n",
      "epoch 105/120\t reward 0.8933601653575896\t\n",
      "epoch 106/120\t reward 0.8936573380231856\t\n",
      "epoch 107/120\t reward 0.8935364884138108\t\n",
      "epoch 108/120\t reward 0.8936445790529252\t\n",
      "epoch 109/120\t reward 0.8927677989006042\t\n",
      "epoch 110/120\t reward 0.894255774617195\t\n",
      "epoch 111/120\t reward 0.8929920446872712\t\n",
      "epoch 112/120\t reward 0.8946735560894012\t\n",
      "epoch 113/120\t reward 0.894235850572586\t\n",
      "epoch 114/120\t reward 0.8939374178647995\t\n",
      "epoch 115/120\t reward 0.8940172410011291\t\n",
      "epoch 116/120\t reward 0.8937356543540954\t\n",
      "epoch 117/120\t reward 0.8942258071899414\t\n",
      "epoch 118/120\t reward 0.894021982550621\t\n",
      "epoch 119/120\t reward 0.893414294719696\t\n",
      "epoch 120/120\t reward 0.8943250381946564\t\n",
      "==> Test\n",
      "---  --------  -------\n",
      "No.  Video     F-score\n",
      "1    video_11  60.2%\n",
      "2    video_18  67.5%\n",
      "3    video_21  23.7%\n",
      "4    video_22  41.2%\n",
      "5    video_9   37.2%\n",
      "---  --------  -------\n",
      "Average F-score 46.0%\n",
      "Finished. Total elapsed time (h:m:s): 0:01:24\n",
      "Model saved to log/summe-split0-120\\model_epoch120.pth.tar\n"
     ]
    },
    {
     "name": "stderr",
     "output_type": "stream",
     "text": [
      "d:\\STUDYING\\CS106\\Project\\pytorch-vsumm-reinforce\\rewards.py:47: UserWarning: This overload of addmm_ is deprecated:\n",
      "\taddmm_(Number beta, Number alpha, Tensor mat1, Tensor mat2)\n",
      "Consider using one of the following signatures instead:\n",
      "\taddmm_(Tensor mat1, Tensor mat2, *, Number beta, Number alpha) (Triggered internally at ..\\torch\\csrc\\utils\\python_arg_parser.cpp:1519.)\n",
      "  dist_mat.addmm_(1, -2, _seq, _seq.t())\n"
     ]
    }
   ],
   "source": [
    "!python main.py -d datasets/eccv16_dataset_summe_google_pool5.h5 -s datasets/summe_splits.json -m summe --gpu 0 --save-dir log/summe-split0 --split-id 0 --verbose --max-epoch 60"
   ]
  },
  {
   "cell_type": "markdown",
   "metadata": {},
   "source": [
    "Sau khi train thì những kết quả nhận được sẽ nằm trong thư mục **log**"
   ]
  },
  {
   "cell_type": "markdown",
   "metadata": {},
   "source": [
    "### Test"
   ]
  },
  {
   "cell_type": "markdown",
   "metadata": {},
   "source": [
    "Train xong thì phải test (trên cùng bộ eccv16_dataset_summe_google_pool5.h5 nhe, hoặc lấy bộ khác cũng được). \n",
    "Note: Nếu thâm số **--save-results** được bật, kết quả đầu ra sẽ được lưu vào tệp **results.h5** trong cùng thư mục được chỉ định bởi **--save-dir**.\n",
    "\n",
    "Xong thì nó ra thêm cái file **log_test.txt** và **result.h5**"
   ]
  },
  {
   "cell_type": "code",
   "execution_count": 4,
   "metadata": {},
   "outputs": [
    {
     "name": "stdout",
     "output_type": "stream",
     "text": [
      "==========\n",
      "Args:Namespace(dataset='datasets/eccv16_dataset_summe_google_pool5.h5', split='datasets/summe_splits.json', split_id=0, metric='summe', input_dim=1024, hidden_dim=256, num_layers=1, rnn_cell='lstm', lr=1e-05, weight_decay=1e-05, max_epoch=60, stepsize=30, gamma=0.1, num_episode=5, beta=0.01, seed=1, gpu='0', use_cpu=False, evaluate=True, save_dir='log/summe-split0-120', resume='log/summe-split0-120/model_epoch120.pth.tar', verbose=True, save_results=True)\n",
      "==========\n",
      "Currently using GPU 0\n",
      "Initialize dataset datasets/eccv16_dataset_summe_google_pool5.h5\n",
      "# total videos 25. # train videos 20. # test videos 5\n",
      "Initialize model\n",
      "Model size: 2.62605M\n",
      "Loading checkpoint from 'log/summe-split0-120/model_epoch120.pth.tar'\n",
      "Evaluate only\n",
      "==> Test\n",
      "---  --------  -------\n",
      "No.  Video     F-score\n",
      "1    video_11  60.2%\n",
      "2    video_18  67.5%\n",
      "3    video_21  23.7%\n",
      "4    video_22  41.2%\n",
      "5    video_9   37.2%\n",
      "---  --------  -------\n",
      "Average F-score 46.0%\n"
     ]
    }
   ],
   "source": [
    "!python main.py -d datasets/eccv16_dataset_summe_google_pool5.h5 -s datasets/summe_splits.json -m summe --gpu 0 --save-dir log/summe-split0-120 --split-id 0 --evaluate --resume log/summe-split0-120/model_epoch120.pth.tar --verbose --save-results"
   ]
  },
  {
   "cell_type": "markdown",
   "metadata": {},
   "source": [
    " Để hiển thị score-vs-gtscore, thực hiện:"
   ]
  },
  {
   "cell_type": "code",
   "execution_count": 7,
   "metadata": {},
   "outputs": [
    {
     "name": "stdout",
     "output_type": "stream",
     "text": [
      "Done video video_11. # frames 1612.\n",
      "Done video video_18. # frames 2221.\n",
      "Done video video_21. # frames 9672.\n",
      "Done video video_22. # frames 5178.\n",
      "Done video video_9. # frames 4971.\n"
     ]
    }
   ],
   "source": [
    "!python visualize_results.py -p log/summe-split0/result.h5"
   ]
  },
  {
   "cell_type": "markdown",
   "metadata": {},
   "source": [
    "### Plot"
   ]
  },
  {
   "cell_type": "markdown",
   "metadata": {},
   "source": [
    "Code dưới dùng để plot những reward nhận được tại mỗi epoch. Sử dụng **parse_log.py** để plot các average rewards. Kết quả vẫn lưu chung chỗ với **log_train.txt**"
   ]
  },
  {
   "cell_type": "code",
   "execution_count": 8,
   "metadata": {},
   "outputs": [],
   "source": [
    "!python parse_log.py -p log/summe-split0/log_train.txt"
   ]
  },
  {
   "cell_type": "markdown",
   "metadata": {},
   "source": [
    "Nếu bạn muốn plot epoch-reward curve theo epoch cho một số video cụ thể (sửa số cuối), thực hiện:"
   ]
  },
  {
   "cell_type": "code",
   "execution_count": 13,
   "metadata": {},
   "outputs": [],
   "source": [
    "!python parse_json.py -p log/summe-split0/rewards.json -i 4"
   ]
  },
  {
   "cell_type": "markdown",
   "metadata": {},
   "source": [
    "**Note**: Nếu bạn muốn plot epoch-reward curve theo epoch cho tất cả các video huấn luyện, thử với **parse_json.sh**. Sửa lại code tùy nhu cầu."
   ]
  },
  {
   "cell_type": "markdown",
   "metadata": {},
   "source": [
    "### Visualize summary"
   ]
  },
  {
   "cell_type": "markdown",
   "metadata": {},
   "source": [
    "Chạy dòng dưới đây sẽ dùng file pretrained ở trên để chuyển các file trong bộ dataset summe thành một video tóm tắt (chỉ hoạt động hiệu quả trên các video test), kết quả lưu trong log/summary"
   ]
  },
  {
   "cell_type": "code",
   "execution_count": 2,
   "metadata": {},
   "outputs": [
    {
     "name": "stderr",
     "output_type": "stream",
     "text": [
      "OpenCV: FFMPEG: tag 0x5634504d/'MP4V' is not supported with codec id 12 and format 'mp4 / MP4 (MPEG-4 Part 14)'\n",
      "OpenCV: FFMPEG: fallback to use tag 0x7634706d/'mp4v'\n"
     ]
    }
   ],
   "source": [
    "!python summary2video.py -p log/summe-split0-120/result.h5 -d source/frames/video_9 -i 4 --fps 30 --save-dir log/summary --save-name video_9_2.mp4 "
   ]
  },
  {
   "cell_type": "markdown",
   "metadata": {},
   "source": [
    "Việc tóm tắt video bên ngoài sẽ được thục hiện trong file **DEMO.ipynb**"
   ]
  }
 ],
 "metadata": {
  "kernelspec": {
   "display_name": "Python 3",
   "language": "python",
   "name": "python3"
  },
  "language_info": {
   "codemirror_mode": {
    "name": "ipython",
    "version": 3
   },
   "file_extension": ".py",
   "mimetype": "text/x-python",
   "name": "python",
   "nbconvert_exporter": "python",
   "pygments_lexer": "ipython3",
   "version": "3.10.7"
  }
 },
 "nbformat": 4,
 "nbformat_minor": 2
}
